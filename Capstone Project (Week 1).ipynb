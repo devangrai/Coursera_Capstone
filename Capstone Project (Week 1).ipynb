{
    "cells": [
        {
            "cell_type": "markdown",
            "metadata": {
                "collapsed": true
            },
            "source": "# Capstone Project - The Battle of the Neighborhoods (Week 1)"
        },
        {
            "cell_type": "markdown",
            "metadata": {},
            "source": "### Clearly define a problem or an idea of your choice, where you would need to leverage the Foursquare location data to solve or execute. Remember that data science problems always target an audience and are meant to help a group of stakeholders solve a problem, so make sure that you explicitly describe your audience and why they would care about your problem."
        },
        {
            "cell_type": "markdown",
            "metadata": {},
            "source": "Although we are currently facing low tourism levels due to the COVID-19 pandemic, it is certain that once restrictions are lifted, tourism will flourish once again. Our business problem is simple: **how do we provide support for tourists who flock to New York to help them visualize different districts and neighborhoods to scout out culinary and food venues that satisfy their needs?**\n\n\nWith nearly 65.2 million tourists annually, New York is expected to see a greater number of tourists due to the current quarantine conditions. \n\nNew York is one of many culinary capitals of the world, branding its own takes on popular foods, such as New York cheesecake and New York pizza. However, it is not easy for tourists to locate ideal restaurants. A quick Google search will show many varying reviews for a variety of different locations. This makes it hard for tourists to identify neighborhoods with the best restaurants and cuisine.\n\nIn this project, we will be utilizing Foursquare and machine learning to group different neighborhoods by their restauarant venues information."
        },
        {
            "cell_type": "markdown",
            "metadata": {},
            "source": "### Describe the data that you will be using to solve the problem or execute your idea. Remember that you will need to use the Foursquare location data to solve the problem or execute your idea. You can absolutely use other datasets in combination with the Foursquare location data. So make sure that you provide adequate explanation and discussion, with examples, of the data that you will be using, even if it is only Foursquare location data."
        },
        {
            "cell_type": "markdown",
            "metadata": {},
            "source": "For this project, we will need...\n\n**New York neighborhood data with coordinates** The data source is: https://en.wikipedia.org/wiki/Neighborhoods_in_New_York_City#list\n\nThis data will be utilized to obtain the coordinates of the neighborhoods by using the gecoder class of Geopy\n\n**Restaurants in each neighborhoods in New York** The data source is: Foursquare API\n\nWe will use Foursquare API to identify the venues in each neighbhorhood, and then filter it down to restaurants."
        }
    ],
    "metadata": {
        "kernelspec": {
            "display_name": "Python 3.6",
            "language": "python",
            "name": "python3"
        },
        "language_info": {
            "codemirror_mode": {
                "name": "ipython",
                "version": 3
            },
            "file_extension": ".py",
            "mimetype": "text/x-python",
            "name": "python",
            "nbconvert_exporter": "python",
            "pygments_lexer": "ipython3",
            "version": "3.6.9"
        }
    },
    "nbformat": 4,
    "nbformat_minor": 1
}