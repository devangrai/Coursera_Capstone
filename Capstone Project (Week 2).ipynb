{
    "cells": [
        {
            "cell_type": "markdown",
            "metadata": {
                "collapsed": true
            },
            "source": "### Import all libraries"
        },
        {
            "cell_type": "code",
            "execution_count": 59,
            "metadata": {},
            "outputs": [
                {
                    "ename": "ModuleNotFoundError",
                    "evalue": "No module named 'folium'",
                    "output_type": "error",
                    "traceback": [
                        "\u001b[0;31m---------------------------------------------------------------------------\u001b[0m",
                        "\u001b[0;31mModuleNotFoundError\u001b[0m                       Traceback (most recent call last)",
                        "\u001b[0;32m<ipython-input-59-3a9c5a0811ae>\u001b[0m in \u001b[0;36m<module>\u001b[0;34m\u001b[0m\n\u001b[1;32m     21\u001b[0m \u001b[0;34m\u001b[0m\u001b[0m\n\u001b[1;32m     22\u001b[0m \u001b[0;31m#!conda install -c conda-forge folium=0.5.0 --yes # uncomment this line if you haven't completed the Foursquare API lab\u001b[0m\u001b[0;34m\u001b[0m\u001b[0;34m\u001b[0m\u001b[0;34m\u001b[0m\u001b[0m\n\u001b[0;32m---> 23\u001b[0;31m \u001b[0;32mimport\u001b[0m \u001b[0mfolium\u001b[0m \u001b[0;31m# map rendering library\u001b[0m\u001b[0;34m\u001b[0m\u001b[0;34m\u001b[0m\u001b[0m\n\u001b[0m\u001b[1;32m     24\u001b[0m \u001b[0;34m\u001b[0m\u001b[0m\n\u001b[1;32m     25\u001b[0m \u001b[0mprint\u001b[0m\u001b[0;34m(\u001b[0m\u001b[0;34m'Libraries imported.'\u001b[0m\u001b[0;34m)\u001b[0m\u001b[0;34m\u001b[0m\u001b[0;34m\u001b[0m\u001b[0m\n",
                        "\u001b[0;31mModuleNotFoundError\u001b[0m: No module named 'folium'"
                    ]
                }
            ],
            "source": "import numpy as np # library to handle data in a vectorized manner\n\nimport pandas as pd # library for data analsysis\npd.set_option('display.max_columns', None)\npd.set_option('display.max_rows', None)\n\nimport json # library to handle JSON files\n\n#!conda install -c conda-forge geopy --yes # uncomment this line if you haven't completed the Foursquare API lab\nfrom geopy.geocoders import Nominatim # convert an address into latitude and longitude values\n\nimport requests # library to handle requests\nfrom pandas.io.json import json_normalize # tranform JSON file into a pandas dataframe\n\n# Matplotlib and associated plotting modules\nimport matplotlib.cm as cm\nimport matplotlib.colors as colors\n\n# import k-means from clustering stage\nfrom sklearn.cluster import KMeans\n\n#!conda install -c conda-forge folium=0.5.0 --yes # uncomment this line if you haven't completed the Foursquare API lab\nimport folium # map rendering library\n\nprint('Libraries imported.')"
        },
        {
            "cell_type": "markdown",
            "metadata": {},
            "source": "## Data Preparation"
        },
        {
            "cell_type": "markdown",
            "metadata": {},
            "source": "### Scrap all data from Wikipedia to dataframe"
        },
        {
            "cell_type": "code",
            "execution_count": 55,
            "metadata": {},
            "outputs": [
                {
                    "data": {
                        "text/html": "<div>\n<style scoped>\n    .dataframe tbody tr th:only-of-type {\n        vertical-align: middle;\n    }\n\n    .dataframe tbody tr th {\n        vertical-align: top;\n    }\n\n    .dataframe thead th {\n        text-align: right;\n    }\n</style>\n<table border=\"1\" class=\"dataframe\">\n  <thead>\n    <tr style=\"text-align: right;\">\n      <th></th>\n      <th>No.</th>\n      <th>Name</th>\n      <th>Kanji</th>\n      <th>Population(as of October\u00a02016</th>\n      <th>Density</th>\n      <th>Area</th>\n    </tr>\n  </thead>\n  <tbody>\n    <tr>\n      <th>0</th>\n      <td>01</td>\n      <td>Chiyoda</td>\n      <td>\u5343\u4ee3\u7530\u533a</td>\n      <td>59441</td>\n      <td>5100</td>\n      <td>11.66</td>\n    </tr>\n    <tr>\n      <th>1</th>\n      <td>02</td>\n      <td>Ch\u016b\u014d</td>\n      <td>\u4e2d\u592e\u533a</td>\n      <td>147620</td>\n      <td>14460</td>\n      <td>10.21</td>\n    </tr>\n    <tr>\n      <th>2</th>\n      <td>03</td>\n      <td>Minato</td>\n      <td>\u6e2f\u533a</td>\n      <td>248071</td>\n      <td>12180</td>\n      <td>20.37</td>\n    </tr>\n    <tr>\n      <th>3</th>\n      <td>04</td>\n      <td>Shinjuku</td>\n      <td>\u65b0\u5bbf\u533a</td>\n      <td>339211</td>\n      <td>18620</td>\n      <td>18.22</td>\n    </tr>\n    <tr>\n      <th>4</th>\n      <td>05</td>\n      <td>Bunky\u014d</td>\n      <td>\u6587\u4eac\u533a</td>\n      <td>223389</td>\n      <td>19790</td>\n      <td>11.29</td>\n    </tr>\n    <tr>\n      <th>5</th>\n      <td>06</td>\n      <td>Tait\u014d</td>\n      <td>\u53f0\u6771\u533a</td>\n      <td>200486</td>\n      <td>19830</td>\n      <td>10.11</td>\n    </tr>\n    <tr>\n      <th>6</th>\n      <td>07</td>\n      <td>Sumida</td>\n      <td>\u58a8\u7530\u533a</td>\n      <td>260358</td>\n      <td>18910</td>\n      <td>13.77</td>\n    </tr>\n    <tr>\n      <th>7</th>\n      <td>08</td>\n      <td>K\u014dt\u014d</td>\n      <td>\u6c5f\u6771\u533a</td>\n      <td>502579</td>\n      <td>12510</td>\n      <td>40.16</td>\n    </tr>\n    <tr>\n      <th>8</th>\n      <td>09</td>\n      <td>Shinagawa</td>\n      <td>\u54c1\u5ddd\u533a</td>\n      <td>392492</td>\n      <td>17180</td>\n      <td>22.84</td>\n    </tr>\n    <tr>\n      <th>9</th>\n      <td>10</td>\n      <td>Meguro</td>\n      <td>\u76ee\u9ed2\u533a</td>\n      <td>280283</td>\n      <td>19110</td>\n      <td>14.67</td>\n    </tr>\n    <tr>\n      <th>10</th>\n      <td>11</td>\n      <td>\u014cta</td>\n      <td>\u5927\u7530\u533a</td>\n      <td>722608</td>\n      <td>11910</td>\n      <td>60.66</td>\n    </tr>\n    <tr>\n      <th>11</th>\n      <td>12</td>\n      <td>Setagaya</td>\n      <td>\u4e16\u7530\u8c37\u533a</td>\n      <td>910868</td>\n      <td>15690</td>\n      <td>58.05</td>\n    </tr>\n    <tr>\n      <th>12</th>\n      <td>13</td>\n      <td>Shibuya</td>\n      <td>\u6e0b\u8c37\u533a</td>\n      <td>227850</td>\n      <td>15080</td>\n      <td>15.11</td>\n    </tr>\n    <tr>\n      <th>13</th>\n      <td>14</td>\n      <td>Nakano</td>\n      <td>\u4e2d\u91ce\u533a</td>\n      <td>332902</td>\n      <td>21350</td>\n      <td>15.59</td>\n    </tr>\n    <tr>\n      <th>14</th>\n      <td>15</td>\n      <td>Suginami</td>\n      <td>\u6749\u4e26\u533a</td>\n      <td>570483</td>\n      <td>16750</td>\n      <td>34.06</td>\n    </tr>\n    <tr>\n      <th>15</th>\n      <td>16</td>\n      <td>Toshima</td>\n      <td>\u8c4a\u5cf6\u533a</td>\n      <td>294673</td>\n      <td>22650</td>\n      <td>13.01</td>\n    </tr>\n    <tr>\n      <th>16</th>\n      <td>17</td>\n      <td>Kita</td>\n      <td>\u5317\u533a</td>\n      <td>345063</td>\n      <td>16740</td>\n      <td>20.61</td>\n    </tr>\n    <tr>\n      <th>17</th>\n      <td>18</td>\n      <td>Arakawa</td>\n      <td>\u8352\u5ddd\u533a</td>\n      <td>213648</td>\n      <td>21030</td>\n      <td>10.16</td>\n    </tr>\n    <tr>\n      <th>18</th>\n      <td>19</td>\n      <td>Itabashi</td>\n      <td>\u677f\u6a4b\u533a</td>\n      <td>569225</td>\n      <td>17670</td>\n      <td>32.22</td>\n    </tr>\n    <tr>\n      <th>19</th>\n      <td>20</td>\n      <td>Nerima</td>\n      <td>\u7df4\u99ac\u533a</td>\n      <td>726748</td>\n      <td>15120</td>\n      <td>48.08</td>\n    </tr>\n    <tr>\n      <th>20</th>\n      <td>21</td>\n      <td>Adachi</td>\n      <td>\u8db3\u7acb\u533a</td>\n      <td>674067</td>\n      <td>12660</td>\n      <td>53.25</td>\n    </tr>\n    <tr>\n      <th>21</th>\n      <td>22</td>\n      <td>Katsushika</td>\n      <td>\u845b\u98fe\u533a</td>\n      <td>447140</td>\n      <td>12850</td>\n      <td>34.80</td>\n    </tr>\n    <tr>\n      <th>22</th>\n      <td>23</td>\n      <td>Edogawa</td>\n      <td>\u6c5f\u6238\u5ddd\u533a</td>\n      <td>685899</td>\n      <td>13750</td>\n      <td>49.90</td>\n    </tr>\n    <tr>\n      <th>23</th>\n      <td>Overall</td>\n      <td>Overall</td>\n      <td>Overall</td>\n      <td>9375104</td>\n      <td>15146</td>\n      <td>619.00</td>\n    </tr>\n  </tbody>\n</table>\n</div>",
                        "text/plain": "        No.        Name    Kanji  Population(as of October\u00a02016  Density  \\\n0        01     Chiyoda     \u5343\u4ee3\u7530\u533a                          59441     5100   \n1        02        Ch\u016b\u014d      \u4e2d\u592e\u533a                         147620    14460   \n2        03      Minato       \u6e2f\u533a                         248071    12180   \n3        04    Shinjuku      \u65b0\u5bbf\u533a                         339211    18620   \n4        05      Bunky\u014d      \u6587\u4eac\u533a                         223389    19790   \n5        06       Tait\u014d      \u53f0\u6771\u533a                         200486    19830   \n6        07      Sumida      \u58a8\u7530\u533a                         260358    18910   \n7        08        K\u014dt\u014d      \u6c5f\u6771\u533a                         502579    12510   \n8        09   Shinagawa      \u54c1\u5ddd\u533a                         392492    17180   \n9        10      Meguro      \u76ee\u9ed2\u533a                         280283    19110   \n10       11         \u014cta      \u5927\u7530\u533a                         722608    11910   \n11       12    Setagaya     \u4e16\u7530\u8c37\u533a                         910868    15690   \n12       13     Shibuya      \u6e0b\u8c37\u533a                         227850    15080   \n13       14      Nakano      \u4e2d\u91ce\u533a                         332902    21350   \n14       15    Suginami      \u6749\u4e26\u533a                         570483    16750   \n15       16     Toshima      \u8c4a\u5cf6\u533a                         294673    22650   \n16       17        Kita       \u5317\u533a                         345063    16740   \n17       18     Arakawa      \u8352\u5ddd\u533a                         213648    21030   \n18       19    Itabashi      \u677f\u6a4b\u533a                         569225    17670   \n19       20      Nerima      \u7df4\u99ac\u533a                         726748    15120   \n20       21      Adachi      \u8db3\u7acb\u533a                         674067    12660   \n21       22  Katsushika      \u845b\u98fe\u533a                         447140    12850   \n22       23     Edogawa     \u6c5f\u6238\u5ddd\u533a                         685899    13750   \n23  Overall     Overall  Overall                        9375104    15146   \n\n      Area  \n0    11.66  \n1    10.21  \n2    20.37  \n3    18.22  \n4    11.29  \n5    10.11  \n6    13.77  \n7    40.16  \n8    22.84  \n9    14.67  \n10   60.66  \n11   58.05  \n12   15.11  \n13   15.59  \n14   34.06  \n15   13.01  \n16   20.61  \n17   10.16  \n18   32.22  \n19   48.08  \n20   53.25  \n21   34.80  \n22   49.90  \n23  619.00  "
                    },
                    "execution_count": 55,
                    "metadata": {},
                    "output_type": "execute_result"
                }
            ],
            "source": "df = pd.read_html('https://en.wikipedia.org/wiki/Special_wards_of_Tokyo#list')[3]\ndf.drop(['Flag','Major districts'],axis=1,inplace=True)\ndf.rename(columns={'Population(as of October 2016' : 'Population', 'Density(/km2)': 'Density', 'Area(km2)' : 'Area'}, inplace=True)\ndf"
        },
        {
            "cell_type": "markdown",
            "metadata": {},
            "source": "### Getting the coordinates using Geopy"
        },
        {
            "cell_type": "code",
            "execution_count": 58,
            "metadata": {},
            "outputs": [
                {
                    "ename": "AttributeError",
                    "evalue": "'Location' object has no attribute 'longtitude'",
                    "output_type": "error",
                    "traceback": [
                        "\u001b[0;31m---------------------------------------------------------------------------\u001b[0m",
                        "\u001b[0;31mAttributeError\u001b[0m                            Traceback (most recent call last)",
                        "\u001b[0;32m<ipython-input-58-654b641a2e49>\u001b[0m in \u001b[0;36m<module>\u001b[0;34m\u001b[0m\n\u001b[1;32m      2\u001b[0m \u001b[0mgeolocater\u001b[0m \u001b[0;34m=\u001b[0m \u001b[0mNominatim\u001b[0m\u001b[0;34m(\u001b[0m\u001b[0muser_agent\u001b[0m\u001b[0;34m=\u001b[0m\u001b[0;34m\"Tokyo_explorer\"\u001b[0m\u001b[0;34m)\u001b[0m\u001b[0;34m\u001b[0m\u001b[0;34m\u001b[0m\u001b[0m\n\u001b[1;32m      3\u001b[0m \u001b[0;34m\u001b[0m\u001b[0m\n\u001b[0;32m----> 4\u001b[0;31m \u001b[0mdf\u001b[0m\u001b[0;34m[\u001b[0m\u001b[0;34m'Major_Dist_Coord'\u001b[0m\u001b[0;34m]\u001b[0m \u001b[0;34m=\u001b[0m \u001b[0mdf\u001b[0m\u001b[0;34m[\u001b[0m\u001b[0;34m'Kanji'\u001b[0m\u001b[0;34m]\u001b[0m\u001b[0;34m.\u001b[0m\u001b[0mapply\u001b[0m\u001b[0;34m(\u001b[0m\u001b[0mgeolocater\u001b[0m\u001b[0;34m.\u001b[0m\u001b[0mgeocode\u001b[0m\u001b[0;34m)\u001b[0m\u001b[0;34m.\u001b[0m\u001b[0mapply\u001b[0m\u001b[0;34m(\u001b[0m\u001b[0;32mlambda\u001b[0m \u001b[0mx\u001b[0m\u001b[0;34m:\u001b[0m \u001b[0;34m(\u001b[0m\u001b[0mx\u001b[0m\u001b[0;34m.\u001b[0m\u001b[0mlatitude\u001b[0m\u001b[0;34m,\u001b[0m \u001b[0mx\u001b[0m\u001b[0;34m.\u001b[0m\u001b[0mlongtitude\u001b[0m\u001b[0;34m)\u001b[0m\u001b[0;34m)\u001b[0m\u001b[0;34m\u001b[0m\u001b[0;34m\u001b[0m\u001b[0m\n\u001b[0m\u001b[1;32m      5\u001b[0m \u001b[0mdf\u001b[0m\u001b[0;34m[\u001b[0m\u001b[0;34m[\u001b[0m\u001b[0;34m'Latitude'\u001b[0m\u001b[0;34m,\u001b[0m \u001b[0;34m'Longtitude'\u001b[0m\u001b[0;34m]\u001b[0m\u001b[0;34m]\u001b[0m \u001b[0;34m=\u001b[0m \u001b[0mdf\u001b[0m\u001b[0;34m[\u001b[0m\u001b[0;34m'Major_Dist_Coord'\u001b[0m\u001b[0;34m]\u001b[0m\u001b[0;34m.\u001b[0m\u001b[0mapply\u001b[0m\u001b[0;34m(\u001b[0m\u001b[0mpd\u001b[0m\u001b[0;34m.\u001b[0m\u001b[0mSeries\u001b[0m\u001b[0;34m)\u001b[0m\u001b[0;34m\u001b[0m\u001b[0;34m\u001b[0m\u001b[0m\n\u001b[1;32m      6\u001b[0m \u001b[0;34m\u001b[0m\u001b[0m\n",
                        "\u001b[0;32m/opt/conda/envs/Python36/lib/python3.6/site-packages/pandas/core/series.py\u001b[0m in \u001b[0;36mapply\u001b[0;34m(self, func, convert_dtype, args, **kwds)\u001b[0m\n\u001b[1;32m   3589\u001b[0m             \u001b[0;32melse\u001b[0m\u001b[0;34m:\u001b[0m\u001b[0;34m\u001b[0m\u001b[0;34m\u001b[0m\u001b[0m\n\u001b[1;32m   3590\u001b[0m                 \u001b[0mvalues\u001b[0m \u001b[0;34m=\u001b[0m \u001b[0mself\u001b[0m\u001b[0;34m.\u001b[0m\u001b[0mastype\u001b[0m\u001b[0;34m(\u001b[0m\u001b[0mobject\u001b[0m\u001b[0;34m)\u001b[0m\u001b[0;34m.\u001b[0m\u001b[0mvalues\u001b[0m\u001b[0;34m\u001b[0m\u001b[0;34m\u001b[0m\u001b[0m\n\u001b[0;32m-> 3591\u001b[0;31m                 \u001b[0mmapped\u001b[0m \u001b[0;34m=\u001b[0m \u001b[0mlib\u001b[0m\u001b[0;34m.\u001b[0m\u001b[0mmap_infer\u001b[0m\u001b[0;34m(\u001b[0m\u001b[0mvalues\u001b[0m\u001b[0;34m,\u001b[0m \u001b[0mf\u001b[0m\u001b[0;34m,\u001b[0m \u001b[0mconvert\u001b[0m\u001b[0;34m=\u001b[0m\u001b[0mconvert_dtype\u001b[0m\u001b[0;34m)\u001b[0m\u001b[0;34m\u001b[0m\u001b[0;34m\u001b[0m\u001b[0m\n\u001b[0m\u001b[1;32m   3592\u001b[0m \u001b[0;34m\u001b[0m\u001b[0m\n\u001b[1;32m   3593\u001b[0m         \u001b[0;32mif\u001b[0m \u001b[0mlen\u001b[0m\u001b[0;34m(\u001b[0m\u001b[0mmapped\u001b[0m\u001b[0;34m)\u001b[0m \u001b[0;32mand\u001b[0m \u001b[0misinstance\u001b[0m\u001b[0;34m(\u001b[0m\u001b[0mmapped\u001b[0m\u001b[0;34m[\u001b[0m\u001b[0;36m0\u001b[0m\u001b[0;34m]\u001b[0m\u001b[0;34m,\u001b[0m \u001b[0mSeries\u001b[0m\u001b[0;34m)\u001b[0m\u001b[0;34m:\u001b[0m\u001b[0;34m\u001b[0m\u001b[0;34m\u001b[0m\u001b[0m\n",
                        "\u001b[0;32mpandas/_libs/lib.pyx\u001b[0m in \u001b[0;36mpandas._libs.lib.map_infer\u001b[0;34m()\u001b[0m\n",
                        "\u001b[0;32m<ipython-input-58-654b641a2e49>\u001b[0m in \u001b[0;36m<lambda>\u001b[0;34m(x)\u001b[0m\n\u001b[1;32m      2\u001b[0m \u001b[0mgeolocater\u001b[0m \u001b[0;34m=\u001b[0m \u001b[0mNominatim\u001b[0m\u001b[0;34m(\u001b[0m\u001b[0muser_agent\u001b[0m\u001b[0;34m=\u001b[0m\u001b[0;34m\"Tokyo_explorer\"\u001b[0m\u001b[0;34m)\u001b[0m\u001b[0;34m\u001b[0m\u001b[0;34m\u001b[0m\u001b[0m\n\u001b[1;32m      3\u001b[0m \u001b[0;34m\u001b[0m\u001b[0m\n\u001b[0;32m----> 4\u001b[0;31m \u001b[0mdf\u001b[0m\u001b[0;34m[\u001b[0m\u001b[0;34m'Major_Dist_Coord'\u001b[0m\u001b[0;34m]\u001b[0m \u001b[0;34m=\u001b[0m \u001b[0mdf\u001b[0m\u001b[0;34m[\u001b[0m\u001b[0;34m'Kanji'\u001b[0m\u001b[0;34m]\u001b[0m\u001b[0;34m.\u001b[0m\u001b[0mapply\u001b[0m\u001b[0;34m(\u001b[0m\u001b[0mgeolocater\u001b[0m\u001b[0;34m.\u001b[0m\u001b[0mgeocode\u001b[0m\u001b[0;34m)\u001b[0m\u001b[0;34m.\u001b[0m\u001b[0mapply\u001b[0m\u001b[0;34m(\u001b[0m\u001b[0;32mlambda\u001b[0m \u001b[0mx\u001b[0m\u001b[0;34m:\u001b[0m \u001b[0;34m(\u001b[0m\u001b[0mx\u001b[0m\u001b[0;34m.\u001b[0m\u001b[0mlatitude\u001b[0m\u001b[0;34m,\u001b[0m \u001b[0mx\u001b[0m\u001b[0;34m.\u001b[0m\u001b[0mlongtitude\u001b[0m\u001b[0;34m)\u001b[0m\u001b[0;34m)\u001b[0m\u001b[0;34m\u001b[0m\u001b[0;34m\u001b[0m\u001b[0m\n\u001b[0m\u001b[1;32m      5\u001b[0m \u001b[0mdf\u001b[0m\u001b[0;34m[\u001b[0m\u001b[0;34m[\u001b[0m\u001b[0;34m'Latitude'\u001b[0m\u001b[0;34m,\u001b[0m \u001b[0;34m'Longtitude'\u001b[0m\u001b[0;34m]\u001b[0m\u001b[0;34m]\u001b[0m \u001b[0;34m=\u001b[0m \u001b[0mdf\u001b[0m\u001b[0;34m[\u001b[0m\u001b[0;34m'Major_Dist_Coord'\u001b[0m\u001b[0;34m]\u001b[0m\u001b[0;34m.\u001b[0m\u001b[0mapply\u001b[0m\u001b[0;34m(\u001b[0m\u001b[0mpd\u001b[0m\u001b[0;34m.\u001b[0m\u001b[0mSeries\u001b[0m\u001b[0;34m)\u001b[0m\u001b[0;34m\u001b[0m\u001b[0;34m\u001b[0m\u001b[0m\n\u001b[1;32m      6\u001b[0m \u001b[0;34m\u001b[0m\u001b[0m\n",
                        "\u001b[0;31mAttributeError\u001b[0m: 'Location' object has no attribute 'longtitude'"
                    ]
                }
            ],
            "source": "from geopy.geocoders import Nominatim\ngeolocater = Nominatim(user_agent=\"Tokyo_explorer\")\n\ndf['Major_Dist_Coord'] = df['Kanji'].apply(geolocater.geocode).apply(lambda x: (x.latitude, x.longtitude))\ndf[['Latitude', 'Longtitude']] = df['Major_Dist_Coord'].apply(pd.Series)\n\ndf.drop(['Major_Dist_Coord'], axis=1, inplace=True)\ndf"
        },
        {
            "cell_type": "markdown",
            "metadata": {},
            "source": "## Exploratory Data Analysis"
        },
        {
            "cell_type": "markdown",
            "metadata": {},
            "source": "### Using Foursquare"
        },
        {
            "cell_type": "code",
            "execution_count": 61,
            "metadata": {},
            "outputs": [
                {
                    "ename": "NameError",
                    "evalue": "name 'nearby_venues' is not defined",
                    "output_type": "error",
                    "traceback": [
                        "\u001b[0;31m---------------------------------------------------------------------------\u001b[0m",
                        "\u001b[0;31mNameError\u001b[0m                                 Traceback (most recent call last)",
                        "\u001b[0;32m<ipython-input-61-072bb37a11d2>\u001b[0m in \u001b[0;36m<module>\u001b[0;34m\u001b[0m\n\u001b[0;32m----> 1\u001b[0;31m \u001b[0mprint\u001b[0m\u001b[0;34m(\u001b[0m\u001b[0;34m'{} unique categories in Chiyoda'\u001b[0m\u001b[0;34m.\u001b[0m\u001b[0mformat\u001b[0m\u001b[0;34m(\u001b[0m\u001b[0mnearby_venues\u001b[0m\u001b[0;34m[\u001b[0m\u001b[0;34m'categories'\u001b[0m\u001b[0;34m]\u001b[0m\u001b[0;34m.\u001b[0m\u001b[0mvalue_counts\u001b[0m\u001b[0;34m(\u001b[0m\u001b[0;34m)\u001b[0m\u001b[0;34m.\u001b[0m\u001b[0mshape\u001b[0m\u001b[0;34m(\u001b[0m\u001b[0;36m0\u001b[0m\u001b[0;34m)\u001b[0m\u001b[0;34m)\u001b[0m\u001b[0;34m)\u001b[0m\u001b[0;34m\u001b[0m\u001b[0;34m\u001b[0m\u001b[0m\n\u001b[0m",
                        "\u001b[0;31mNameError\u001b[0m: name 'nearby_venues' is not defined"
                    ]
                }
            ],
            "source": "print('{} unique categories in Chiyoda'.format(nearby_venues['categories'].value_counts().shape(0)))"
        },
        {
            "cell_type": "code",
            "execution_count": null,
            "metadata": {},
            "outputs": [],
            "source": "print(nearby_venues['categories'.value_counts()[0:10]])"
        },
        {
            "cell_type": "code",
            "execution_count": 62,
            "metadata": {},
            "outputs": [
                {
                    "ename": "NameError",
                    "evalue": "name 'Tokyo_Venues_only_restaurant' is not defined",
                    "output_type": "error",
                    "traceback": [
                        "\u001b[0;31m---------------------------------------------------------------------------\u001b[0m",
                        "\u001b[0;31mNameError\u001b[0m                                 Traceback (most recent call last)",
                        "\u001b[0;32m<ipython-input-62-ea54d69c507d>\u001b[0m in \u001b[0;36m<module>\u001b[0;34m\u001b[0m\n\u001b[0;32m----> 1\u001b[0;31m \u001b[0mTokyo_onehot\u001b[0m \u001b[0;34m=\u001b[0m \u001b[0mpd\u001b[0m\u001b[0;34m.\u001b[0m\u001b[0mget_dummies\u001b[0m\u001b[0;34m(\u001b[0m\u001b[0mTokyo_Venues_only_restaurant\u001b[0m\u001b[0;34m[\u001b[0m\u001b[0;34m[\u001b[0m\u001b[0;34m'Venue Category'\u001b[0m\u001b[0;34m]\u001b[0m\u001b[0;34m]\u001b[0m\u001b[0;34m,\u001b[0m \u001b[0mprefix\u001b[0m\u001b[0;34m=\u001b[0m\u001b[0;34m\"\"\u001b[0m\u001b[0;34m,\u001b[0m \u001b[0mprefix_sep\u001b[0m\u001b[0;34m=\u001b[0m\u001b[0;34m\"\"\u001b[0m\u001b[0;34m)\u001b[0m\u001b[0;34m\u001b[0m\u001b[0;34m\u001b[0m\u001b[0m\n\u001b[0m\u001b[1;32m      2\u001b[0m \u001b[0;34m\u001b[0m\u001b[0m\n\u001b[1;32m      3\u001b[0m \u001b[0mTokyo_onehot\u001b[0m\u001b[0;34m[\u001b[0m\u001b[0;34m'Neighbhorhood'\u001b[0m\u001b[0;34m]\u001b[0m \u001b[0;34m=\u001b[0m \u001b[0mTokyo_Venues_only_restaurant\u001b[0m\u001b[0;34m[\u001b[0m\u001b[0;34m'Neighbhorhood'\u001b[0m\u001b[0;34m]\u001b[0m\u001b[0;34m\u001b[0m\u001b[0;34m\u001b[0m\u001b[0m\n\u001b[1;32m      4\u001b[0m \u001b[0;34m\u001b[0m\u001b[0m\n\u001b[1;32m      5\u001b[0m \u001b[0mfixed_columns\u001b[0m \u001b[0;34m=\u001b[0m \u001b[0;34m[\u001b[0m\u001b[0mTokyo_onehot\u001b[0m\u001b[0;34m.\u001b[0m\u001b[0mcolumns\u001b[0m\u001b[0;34m[\u001b[0m\u001b[0;34m-\u001b[0m\u001b[0;36m1\u001b[0m\u001b[0;34m]\u001b[0m \u001b[0;34m+\u001b[0m \u001b[0mlist\u001b[0m\u001b[0;34m(\u001b[0m\u001b[0mTokyo_onehot\u001b[0m\u001b[0;34m.\u001b[0m\u001b[0mcolumns\u001b[0m\u001b[0;34m[\u001b[0m\u001b[0;34m:\u001b[0m\u001b[0;34m-\u001b[0m\u001b[0;36m1\u001b[0m\u001b[0;34m]\u001b[0m\u001b[0;34m)\u001b[0m\u001b[0;34m]\u001b[0m\u001b[0;34m\u001b[0m\u001b[0;34m\u001b[0m\u001b[0m\n",
                        "\u001b[0;31mNameError\u001b[0m: name 'Tokyo_Venues_only_restaurant' is not defined"
                    ]
                }
            ],
            "source": "Tokyo_onehot = pd.get_dummies(Tokyo_Venues_only_restaurant[['Venue Category']], prefix=\"\", prefix_sep=\"\")\n\nTokyo_onehot['Neighbhorhood'] = Tokyo_Venues_only_restaurant['Neighbhorhood']\n\nfixed_columns = [Tokyo_onehot.columns[-1] + list(Tokyo_onehot.columns[:-1])]\nTokyo_onehot = Tokyo_onehot[fixed_columns]\n\nTokyo_onehot.head()"
        },
        {
            "cell_type": "code",
            "execution_count": 63,
            "metadata": {},
            "outputs": [
                {
                    "ename": "NameError",
                    "evalue": "name 'Tokyo_grouped' is not defined",
                    "output_type": "error",
                    "traceback": [
                        "\u001b[0;31m---------------------------------------------------------------------------\u001b[0m",
                        "\u001b[0;31mNameError\u001b[0m                                 Traceback (most recent call last)",
                        "\u001b[0;32m<ipython-input-63-a8d2b9e63dce>\u001b[0m in \u001b[0;36m<module>\u001b[0;34m\u001b[0m\n\u001b[1;32m      1\u001b[0m \u001b[0mnum_top_venues\u001b[0m \u001b[0;34m=\u001b[0m \u001b[0;36m5\u001b[0m\u001b[0;34m\u001b[0m\u001b[0;34m\u001b[0m\u001b[0m\n\u001b[1;32m      2\u001b[0m \u001b[0;34m\u001b[0m\u001b[0m\n\u001b[0;32m----> 3\u001b[0;31m \u001b[0;32mfor\u001b[0m \u001b[0mhood\u001b[0m \u001b[0;32min\u001b[0m \u001b[0mTokyo_grouped\u001b[0m\u001b[0;34m[\u001b[0m\u001b[0;34m'Neighbhorhood'\u001b[0m\u001b[0;34m]\u001b[0m\u001b[0;34m:\u001b[0m\u001b[0;34m\u001b[0m\u001b[0;34m\u001b[0m\u001b[0m\n\u001b[0m\u001b[1;32m      4\u001b[0m     \u001b[0mprint\u001b[0m\u001b[0;34m(\u001b[0m\u001b[0;34m\"----\"\u001b[0m\u001b[0;34m+\u001b[0m\u001b[0mhood\u001b[0m\u001b[0;34m+\u001b[0m\u001b[0;34m\"----\"\u001b[0m\u001b[0;34m)\u001b[0m\u001b[0;34m\u001b[0m\u001b[0;34m\u001b[0m\u001b[0m\n\u001b[1;32m      5\u001b[0m     \u001b[0mtemp\u001b[0m \u001b[0;34m=\u001b[0m \u001b[0mTokyo_grouped\u001b[0m\u001b[0;34m[\u001b[0m\u001b[0mTokyo_grouped\u001b[0m\u001b[0;34m[\u001b[0m\u001b[0;34m'Neighbhorhood'\u001b[0m\u001b[0;34m]\u001b[0m \u001b[0;34m==\u001b[0m \u001b[0mhood\u001b[0m\u001b[0;34m]\u001b[0m\u001b[0;34m.\u001b[0m\u001b[0mT\u001b[0m\u001b[0;34m.\u001b[0m\u001b[0mreset_index\u001b[0m\u001b[0;34m(\u001b[0m\u001b[0;34m)\u001b[0m\u001b[0;34m\u001b[0m\u001b[0;34m\u001b[0m\u001b[0m\n",
                        "\u001b[0;31mNameError\u001b[0m: name 'Tokyo_grouped' is not defined"
                    ]
                }
            ],
            "source": "num_top_venues = 5\n\nfor hood in Tokyo_grouped['Neighbhorhood']:\n    print(\"----\"+hood+\"----\")\n    temp = Tokyo_grouped[Tokyo_grouped['Neighbhorhood'] == hood].T.reset_index()\n    temp.columns = ['venue','freq']\n    temp = temp.iloc[1:]\n    temp['freq'] = temp['freq'].astype(float)\n    temp = temp.round({'freq':2})\n    print(temp.sort_values('freq',ascending=False).reset_index(drop=True).head(num_top_venues))\n    print('\\n')"
        },
        {
            "cell_type": "code",
            "execution_count": null,
            "metadata": {},
            "outputs": [],
            "source": "kclusters = 5\nTokyo_grouped_clustering = Tokyo_grouped.drop('Neighbhorhood',1)\n\nkmeans = KMeans(n_clusters=kclusters, random_state=0).fit(Tokyo_grouped_clustering)\n\nkmeans.labels_[0:10]\n\nneighborhoods_venues_sorted.insert(0,'Cluster Labels',kmeans.labels_)\n\ntokyo_merged = df\ntokyo_merged.rename[columns={'Name' : 'Neighbhorhood'}, inplace=True]\n\ntokyo_m"
        }
    ],
    "metadata": {
        "kernelspec": {
            "display_name": "Python 3.6",
            "language": "python",
            "name": "python3"
        },
        "language_info": {
            "codemirror_mode": {
                "name": "ipython",
                "version": 3
            },
            "file_extension": ".py",
            "mimetype": "text/x-python",
            "name": "python",
            "nbconvert_exporter": "python",
            "pygments_lexer": "ipython3",
            "version": "3.6.9"
        }
    },
    "nbformat": 4,
    "nbformat_minor": 1
}